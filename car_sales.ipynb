{
  "nbformat": 4,
  "nbformat_minor": 0,
  "metadata": {
    "colab": {
      "provenance": []
    },
    "kernelspec": {
      "name": "python3",
      "display_name": "Python 3"
    },
    "language_info": {
      "name": "python"
    }
  },
  "cells": [
    {
      "cell_type": "code",
      "execution_count": null,
      "metadata": {
        "id": "SME3ECSckDhF"
      },
      "outputs": [],
      "source": [
        "import pandas as pd"
      ]
    },
    {
      "cell_type": "code",
      "source": [
        "# Load the data\n",
        "df = pd.read_csv('/content/car_sales.csv')"
      ],
      "metadata": {
        "id": "feOSLvLPk32R"
      },
      "execution_count": null,
      "outputs": []
    },
    {
      "cell_type": "code",
      "source": [
        "df.describe()"
      ],
      "metadata": {
        "collapsed": true,
        "id": "DqHn_btOlE7d"
      },
      "execution_count": null,
      "outputs": []
    },
    {
      "cell_type": "code",
      "source": [
        "df.head()"
      ],
      "metadata": {
        "collapsed": true,
        "id": "f-6hzB4SlK0N"
      },
      "execution_count": null,
      "outputs": []
    },
    {
      "cell_type": "code",
      "source": [
        "# Checking how many duplicated data\n",
        "df.duplicated().sum()"
      ],
      "metadata": {
        "id": "OuKh3FP8lMcs"
      },
      "execution_count": null,
      "outputs": []
    },
    {
      "cell_type": "code",
      "source": [
        "# Display duplicate rows\n",
        "df.loc[df.duplicated()]"
      ],
      "metadata": {
        "collapsed": true,
        "id": "Pda36VlVlfY9"
      },
      "execution_count": null,
      "outputs": []
    },
    {
      "cell_type": "markdown",
      "source": [
        "Some rows are duplicated, but kept since they don't affect the analysis"
      ],
      "metadata": {
        "id": "01PtHAbwXyWx"
      }
    },
    {
      "cell_type": "code",
      "source": [
        "# Checking how many null data\n",
        "df.isnull().sum()"
      ],
      "metadata": {
        "collapsed": true,
        "id": "zdPq5CnzlpB4"
      },
      "execution_count": null,
      "outputs": []
    },
    {
      "cell_type": "code",
      "source": [
        "df.info()"
      ],
      "metadata": {
        "id": "bwW5uzCdmd6T"
      },
      "execution_count": null,
      "outputs": []
    },
    {
      "cell_type": "code",
      "source": [
        "# Save the new data into csv\n",
        "df.to_csv(\"car-sales-new.csv\", index=False)"
      ],
      "metadata": {
        "id": "7Qd-2wd8nRa_"
      },
      "execution_count": null,
      "outputs": []
    }
  ]
}